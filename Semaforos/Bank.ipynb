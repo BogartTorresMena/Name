{
 "cells": [
  {
   "cell_type": "markdown",
   "metadata": {
    "id": "gvtcJK03FF7z"
   },
   "source": [
    "**Gestión de Tickets en un Banco**\n",
    "\n",
    "Bogart Torres Mena"
   ]
  },
  {
   "cell_type": "markdown",
   "metadata": {},
   "source": [
    "Importar librerias"
   ]
  },
  {
   "cell_type": "code",
   "execution_count": null,
   "metadata": {
    "id": "zReJ1ZdLFESk"
   },
   "outputs": [],
   "source": [
    "#Gestión de Tickets en un Banco\n",
    "\n",
    "import threading as thr\n",
    "import time\n",
    "import random\n",
    "\n",
    "services=[\"depósito\",\"retiro\",\"consulta\",\"transferencia\",\"otro proceso\"]#nombres"
   ]
  },
  {
   "cell_type": "markdown",
   "metadata": {},
   "source": [
    "Clase de cliente, con id y servicio por el que viene"
   ]
  },
  {
   "cell_type": "code",
   "execution_count": null,
   "metadata": {
    "id": "l6Swva0yGwhJ"
   },
   "outputs": [],
   "source": [
    "class client:#Clase cliente\n",
    "    def _init_(self,id,serv):\n",
    "        self.id=id\n",
    "        if serv==-1:#aleatorio\n",
    "            self.serv=random.randint(0,4)\n",
    "        else:#manual\n",
    "            self.serv=serv"
   ]
  },
  {
   "cell_type": "markdown",
   "metadata": {},
   "source": [
    "Clase de ventanila con tipo de servicio y numero de lugares para la ventanilla"
   ]
  },
  {
   "cell_type": "code",
   "execution_count": null,
   "metadata": {},
   "outputs": [],
   "source": [
    "class vent:\n",
    "    def _init_(self,serv,nt):\n",
    "        self.serv=serv\n",
    "        self.sem=thr.Semaphore(nt)#valor del semaforo"
   ]
  },
  {
   "cell_type": "markdown",
   "metadata": {},
   "source": [
    "Clase de control, contiene el método para mostrar cuando los clientes pasan"
   ]
  },
  {
   "cell_type": "code",
   "execution_count": null,
   "metadata": {},
   "outputs": [],
   "source": [
    "#5 ventanillas con 1 o 2 espacios\n",
    "vens=[vent(i,random.randint(1,2)) for i in range(5)]\n",
    "class control:\n",
    "    def assign(cli):\n",
    "        with vens[cli.serv].sem:#Semaforo de la ventanilla\n",
    "            print(\"Cliente\",cli.id,\"pasa a ventanilla\",cli.serv+1)\n",
    "            time.sleep(2)\n",
    "            print(\"Cliente\",cli.id,\"se va\")"
   ]
  },
  {
   "cell_type": "markdown",
   "metadata": {},
   "source": [
    "Función para los hilos"
   ]
  },
  {
   "cell_type": "code",
   "execution_count": null,
   "metadata": {},
   "outputs": [],
   "source": [
    "ctrl=control\n",
    "def visit(cli):\n",
    "    print(\"Cliente\",cli.id,\"viene a hacer\",services[cli.serv])\n",
    "    ctrl.assign(cli)#Asignar a ventanilla"
   ]
  },
  {
   "cell_type": "markdown",
   "metadata": {},
   "source": [
    "Crear lista de clientes con servisios aleatorios"
   ]
  },
  {
   "cell_type": "code",
   "execution_count": null,
   "metadata": {},
   "outputs": [],
   "source": [
    "#20 clientes vienen por servicios aleatorios\n",
    "clis=[client(i+1,-1) for i in range(20)]"
   ]
  },
  {
   "cell_type": "markdown",
   "metadata": {},
   "source": [
    "Crear lista de hilos"
   ]
  },
  {
   "cell_type": "code",
   "execution_count": null,
   "metadata": {},
   "outputs": [],
   "source": [
    "thrs=[]\n",
    "for c in clis:\n",
    "    thread=thr.Thread(target=visit,args=(c,))\n",
    "    thrs.append(thread)\n",
    "    thread.start()"
   ]
  },
  {
   "cell_type": "markdown",
   "metadata": {},
   "source": [
    "Esperar a los hilos y terminar"
   ]
  },
  {
   "cell_type": "code",
   "execution_count": null,
   "metadata": {},
   "outputs": [],
   "source": [
    "for t in thrs:\n",
    "    t.join()\n",
    "\n",
    "print(\"Terminado\")"
   ]
  }
 ],
 "metadata": {
  "colab": {
   "provenance": []
  },
  "kernelspec": {
   "display_name": "Python 3 (ipykernel)",
   "language": "python",
   "name": "python3"
  },
  "language_info": {
   "codemirror_mode": {
    "name": "ipython",
    "version": 3
   },
   "file_extension": ".py",
   "mimetype": "text/x-python",
   "name": "python",
   "nbconvert_exporter": "python",
   "pygments_lexer": "ipython3",
   "version": "3.12.3"
  }
 },
 "nbformat": 4,
 "nbformat_minor": 4
}
